{
 "cells": [
  {
   "cell_type": "code",
   "execution_count": 9,
   "id": "166f8f6b",
   "metadata": {},
   "outputs": [
    {
     "name": "stdout",
     "output_type": "stream",
     "text": [
      "Given linked list\n",
      "-8 8 9 -12 4 8 -6 6 \n",
      "Linked list after removing zero sum subsequences\n",
      "9 "
     ]
    }
   ],
   "source": [
    "#1.Delete the elements in an linked list whose sum is equal to zero\n",
    "class Node:\n",
    "    def __init__(self, data):\n",
    "        self.data = data\n",
    "        self.next = None\n",
    "\n",
    "class LinkedList:\n",
    "    def __init__(self):\n",
    "        self.head = None\n",
    "\n",
    "    def removeZeroSumSublists(self):\n",
    "        dummy = Node(0)\n",
    "        dummy.next = self.head\n",
    "        cum_sum = 0\n",
    "        table = {0: dummy}\n",
    "        node = self.head\n",
    "\n",
    "        while node:\n",
    "            cum_sum += node.data\n",
    "            if cum_sum in table:\n",
    "                prev = table[cum_sum]\n",
    "                start = prev.next\n",
    "                sum_ = cum_sum\n",
    "                while start != node:\n",
    "                    sum_ += start.data\n",
    "                    del table[sum_]\n",
    "                    start = start.next\n",
    "                prev.next = node.next\n",
    "            else:\n",
    "                table[cum_sum] = node\n",
    "            node = node.next\n",
    "\n",
    "        self.head = dummy.next\n",
    "\n",
    "    def push(self, new_data):\n",
    "        new_node = Node(new_data)\n",
    "        new_node.next = self.head\n",
    "        self.head = new_node\n",
    "\n",
    "    def printList(self):\n",
    "        temp = self.head\n",
    "        while(temp):\n",
    "            print(temp.data,end=' ')\n",
    "            temp = temp.next\n",
    "\n",
    "llist = LinkedList()\n",
    "llist.push(6)\n",
    "llist.push(-6)\n",
    "llist.push(8)\n",
    "llist.push(4)\n",
    "llist.push(-12)\n",
    "llist.push(9)\n",
    "llist.push(8)\n",
    "llist.push(-8)\n",
    "\n",
    "print(\"Given linked list\")\n",
    "llist.printList()\n",
    "llist.removeZeroSumSublists()\n",
    "\n",
    "print (\"\\nLinked list after removing zero sum subsequences\")\n",
    "llist.printList()\n"
   ]
  },
  {
   "cell_type": "code",
   "execution_count": 8,
   "id": "5f55f03a",
   "metadata": {},
   "outputs": [
    {
     "name": "stdout",
     "output_type": "stream",
     "text": [
      "Given linked list\n",
      "1 2 3 4 5 6 7 8 9 \n",
      "Reversed Linked list\n",
      "3 2 1 6 5 4 9 8 7 "
     ]
    }
   ],
   "source": [
    "#2Reverse a linked list in groups of given size\n",
    "\n",
    "class Node:\n",
    "    def __init__(self, data):\n",
    "        self.data = data\n",
    "        self.next = None\n",
    "\n",
    "\n",
    "class LinkedList:\n",
    "    def __init__(self):\n",
    "        self.head = None\n",
    "\n",
    "    def reverse(self, head, k):\n",
    "        \n",
    "        if head == None:\n",
    "            return None\n",
    "        current = head\n",
    "        next = None\n",
    "        prev = None\n",
    "        count = 0\n",
    "\n",
    "        while(current is not None and count < k):\n",
    "            next = current.next\n",
    "            current.next = prev\n",
    "            prev = current\n",
    "            current = next\n",
    "            count += 1\n",
    "\n",
    "        if next is not None:\n",
    "            head.next = self.reverse(next, k)\n",
    "            \n",
    "        return prev\n",
    "\n",
    "    def push(self, new_data):\n",
    "        new_node = Node(new_data)\n",
    "        new_node.next = self.head\n",
    "        self.head = new_node\n",
    "\n",
    "    def printList(self):\n",
    "        temp = self.head\n",
    "        while(temp):\n",
    "            print(temp.data,end=' ')\n",
    "            temp = temp.next\n",
    "\n",
    "llist = LinkedList()\n",
    "llist.push(9)\n",
    "llist.push(8)\n",
    "llist.push(7)\n",
    "llist.push(6)\n",
    "llist.push(5)\n",
    "llist.push(4)\n",
    "llist.push(3)\n",
    "llist.push(2)\n",
    "llist.push(1)\n",
    "\n",
    "print(\"Given linked list\")\n",
    "llist.printList()\n",
    "llist.head = llist.reverse(llist.head, 3)\n",
    "\n",
    "print (\"\\nReversed Linked list\")\n",
    "llist.printList()\n"
   ]
  },
  {
   "cell_type": "code",
   "execution_count": 10,
   "id": "1c428242",
   "metadata": {},
   "outputs": [
    {
     "name": "stdout",
     "output_type": "stream",
     "text": [
      "List 1:\n",
      "1 2 3 \n",
      "List 2:\n",
      "4 5 6 7 8 \n",
      "Merged List:\n",
      "1 4 2 5 3 6 "
     ]
    }
   ],
   "source": [
    "#3.Merge a linked list into another linked list at alternate positions.\n",
    "class Node:\n",
    "    def __init__(self, data):\n",
    "        self.data = data\n",
    "        self.next = None\n",
    "\n",
    "class LinkedList:\n",
    "    def __init__(self):\n",
    "        self.head = None\n",
    "\n",
    "    def mergeAlternate(self, llist):\n",
    "        curr1 = self.head\n",
    "        curr2 = llist.head\n",
    "\n",
    "        while curr1 and curr2:\n",
    "            temp1 = curr1.next\n",
    "            temp2 = curr2.next\n",
    "\n",
    "            curr1.next = curr2\n",
    "            curr2.next = temp1\n",
    "\n",
    "            curr1 = temp1\n",
    "            curr2 = temp2\n",
    "\n",
    "        llist.head = curr2\n",
    "\n",
    "    def push(self, new_data):\n",
    "        new_node = Node(new_data)\n",
    "        new_node.next = self.head\n",
    "        self.head = new_node\n",
    "\n",
    "    def printList(self):\n",
    "        temp = self.head\n",
    "        while(temp):\n",
    "            print(temp.data,end=' ')\n",
    "            temp = temp.next\n",
    "\n",
    "llist1 = LinkedList()\n",
    "llist2 = LinkedList()\n",
    "\n",
    "llist1.push(3)\n",
    "llist1.push(2)\n",
    "llist1.push(1)\n",
    "\n",
    "llist2.push(8)\n",
    "llist2.push(7)\n",
    "llist2.push(6)\n",
    "llist2.push(5)\n",
    "llist2.push(4)\n",
    "\n",
    "print(\"List 1:\")\n",
    "llist1.printList()\n",
    "\n",
    "print(\"\\nList 2:\")\n",
    "llist2.printList()\n",
    "\n",
    "llist1.mergeAlternate(llist2)\n",
    "\n",
    "print(\"\\nMerged List:\")\n",
    "llist1.printList()\n"
   ]
  },
  {
   "cell_type": "code",
   "execution_count": 11,
   "id": "79c8f6c7",
   "metadata": {},
   "outputs": [
    {
     "name": "stdout",
     "output_type": "stream",
     "text": [
      "Count of pairs is 3\n"
     ]
    }
   ],
   "source": [
    "#4.In an array, Count Pairs with given sum\n",
    "\n",
    "import bisect\n",
    "\n",
    "def getPairsCount(arr, n, k):\n",
    "\tarr.sort()\n",
    "\tx, c = 0, 0\n",
    "\tfor i in range(n-1):\n",
    "\t\tx = k-arr[i]\n",
    "\n",
    "\t\ty = bisect.bisect_left(arr, x, i+1, n)\n",
    "\n",
    "\t\tz = bisect.bisect(arr, x, i+1, n)\n",
    "\t\tc = c+z-y\n",
    "\treturn c\n",
    "\n",
    "arr = [1, 5, 7, -1, 5]\n",
    "n = len(arr)\n",
    "k = 6\n",
    "\n",
    "print(\"Count of pairs is\", getPairsCount(arr, n, k))\n"
   ]
  },
  {
   "cell_type": "code",
   "execution_count": 12,
   "id": "6b248038",
   "metadata": {},
   "outputs": [
    {
     "name": "stdout",
     "output_type": "stream",
     "text": [
      "2 appears 2 times.\n",
      "3 appears 2 times.\n",
      "5 appears 2 times.\n",
      "7 appears 2 times.\n"
     ]
    }
   ],
   "source": [
    "#5.Find duplicates in an array\n",
    "\n",
    "def findDuplicates(arr):\n",
    "    freq = {}\n",
    "\n",
    "    for num in arr:\n",
    "        if num in freq:\n",
    "            freq[num] += 1\n",
    "        else:\n",
    "            freq[num] = 1\n",
    "\n",
    "    for num, count in freq.items():\n",
    "        if count > 1:\n",
    "            print(num, \"appears\", count, \"times.\")\n",
    "\n",
    "arr = [1, 2, 3, 4, 2, 5, 6, 7, 3, 5, 8, 9, 7]\n",
    "findDuplicates(arr)\n"
   ]
  },
  {
   "cell_type": "code",
   "execution_count": 13,
   "id": "fbf2ec14",
   "metadata": {},
   "outputs": [
    {
     "name": "stdout",
     "output_type": "stream",
     "text": [
      "The 3 th smallest number is: 3\n",
      "The 3 th largest number is: 6\n"
     ]
    }
   ],
   "source": [
    "#6.Find the Kth largest and Kth smallest number in an array\n",
    "\n",
    "def findKthSmallestAndLargest(arr, k):\n",
    "   \n",
    "    sorted_arr = sorted(arr)\n",
    "    \n",
    "    kth_smallest = sorted_arr[k-1]\n",
    "    kth_largest = sorted_arr[-k]\n",
    "   \n",
    "    return kth_smallest, kth_largest\n",
    "\n",
    "arr = [3, 1, 7, 2, 5, 8, 4, 6]\n",
    "k = 3\n",
    "kth_smallest, kth_largest = findKthSmallestAndLargest(arr, k)\n",
    "print(\"The\", k, \"th smallest number is:\", kth_smallest)\n",
    "print(\"The\", k, \"th largest number is:\", kth_largest)\n"
   ]
  },
  {
   "cell_type": "code",
   "execution_count": 15,
   "id": "fee65e6c",
   "metadata": {},
   "outputs": [
    {
     "name": "stdout",
     "output_type": "stream",
     "text": [
      "-7 -3 -1 2 4 5 6 8 9 "
     ]
    }
   ],
   "source": [
    "#7.Move all the negative elements to one side of the array\n",
    "\n",
    "\n",
    "def move(arr):\n",
    "    arr.sort()\n",
    "\n",
    "arr = [ -1, 2, -3, 4, 5, 6, -7, 8, 9 ]\n",
    "move(arr)\n",
    "for e in arr:\n",
    "\tprint(e , end = \" \")\n"
   ]
  },
  {
   "cell_type": "code",
   "execution_count": 16,
   "id": "5b6e0aa0",
   "metadata": {},
   "outputs": [
    {
     "name": "stdout",
     "output_type": "stream",
     "text": [
      "Original string: hello world\n",
      "Reversed string: dlrow olleh\n"
     ]
    }
   ],
   "source": [
    "#8.Reverse a string using a stack data structure\n",
    "\n",
    "def reverseString(s):\n",
    "    stack = []\n",
    "    \n",
    "    for c in s:\n",
    "        stack.append(c)\n",
    "    \n",
    "    reversed_string = \"\"\n",
    "    while stack:\n",
    "        reversed_string += stack.pop()\n",
    "    return reversed_string\n",
    "\n",
    "s = \"hello world\"\n",
    "reversed_string = reverseString(s)\n",
    "print(\"Original string:\", s)\n",
    "print(\"Reversed string:\", reversed_string)\n",
    "\n"
   ]
  },
  {
   "cell_type": "code",
   "execution_count": 17,
   "id": "fa02bcb2",
   "metadata": {},
   "outputs": [
    {
     "name": "stdout",
     "output_type": "stream",
     "text": [
      "postfix evaluation: -4\n"
     ]
    }
   ],
   "source": [
    "#9.Evaluate a postfix expression using stack\n",
    "\n",
    "class Evaluate:\n",
    "\n",
    "\tdef __init__(self, capacity):\n",
    "\t\tself.top = -1\n",
    "\t\tself.capacity = capacity\n",
    "\n",
    "\t\tself.array = []\n",
    "\n",
    "\tdef isEmpty(self):\n",
    "\t\treturn True if self.top == -1 else False\n",
    "\n",
    "\tdef peek(self):\n",
    "\t\treturn self.array[-1]\n",
    "\n",
    "\tdef pop(self):\n",
    "\t\tif not self.isEmpty():\n",
    "\t\t\tself.top -= 1\n",
    "\t\t\treturn self.array.pop()\n",
    "\t\telse:\n",
    "\t\t\treturn \"$\"\n",
    "\n",
    "\tdef push(self, op):\n",
    "\t\tself.top += 1\n",
    "\t\tself.array.append(op)\n",
    "\n",
    "\tdef evaluatePostfix(self, exp):\n",
    "\n",
    "\t\tfor i in exp:\n",
    "\n",
    "\t\t\tif i.isdigit():\n",
    "\t\t\t\tself.push(i)\n",
    "                \n",
    "\t\t\telse:\n",
    "\t\t\t\tval1 = self.pop()\n",
    "\t\t\t\tval2 = self.pop()\n",
    "\t\t\t\tself.push(str(eval(val2 + i + val1)))\n",
    "\n",
    "\t\treturn int(self.pop())\n",
    "\n",
    "if __name__ == '__main__':\n",
    "\texp = \"231*+9-\"\n",
    "\tobj = Evaluate(len(exp))\n",
    "    \n",
    "\tprint(\"postfix evaluation: %d\" % (obj.evaluatePostfix(exp)))\n",
    "\n"
   ]
  },
  {
   "cell_type": "code",
   "execution_count": 21,
   "id": "89751914",
   "metadata": {},
   "outputs": [
    {
     "name": "stdout",
     "output_type": "stream",
     "text": [
      "1\n",
      "2\n",
      "3\n",
      "3\n",
      "4\n",
      "True\n"
     ]
    }
   ],
   "source": [
    "#10. Implement a queue using the stack data structure\n",
    "\n",
    "class Queue:\n",
    "    def __init__(self):\n",
    "        self.stack_push = []\n",
    "        self.stack_pop = []\n",
    "    \n",
    "    def push(self, x):\n",
    "        self.stack_push.append(x)\n",
    "        \n",
    "    def pop(self):\n",
    "        if not self.stack_pop:\n",
    "            while self.stack_push:\n",
    "                self.stack_pop.append(self.stack_push.pop())\n",
    "        if not self.stack_pop:\n",
    "            return None\n",
    "        return self.stack_pop.pop()\n",
    "    \n",
    "    def peek(self):\n",
    "        if not self.stack_pop:\n",
    "            while self.stack_push:\n",
    "                self.stack_pop.append(self.stack_push.pop())\n",
    "        if not self.stack_pop:\n",
    "            return None\n",
    "        return self.stack_pop[-1]\n",
    "    \n",
    "    def empty(self):\n",
    "        return not self.stack_push and not self.stack_pop\n",
    "    \n",
    "q = Queue()\n",
    "q.push(1)\n",
    "q.push(2)\n",
    "q.push(3)\n",
    "print(q.pop())  \n",
    "print(q.pop())   \n",
    "print(q.peek()) \n",
    "q.push(4)\n",
    "print(q.pop())      \n",
    "print(q.pop())   \n",
    "print(q.empty())  \n",
    "\n"
   ]
  },
  {
   "cell_type": "code",
   "execution_count": null,
   "id": "8e54b856",
   "metadata": {},
   "outputs": [],
   "source": []
  }
 ],
 "metadata": {
  "kernelspec": {
   "display_name": "Python 3 (ipykernel)",
   "language": "python",
   "name": "python3"
  },
  "language_info": {
   "codemirror_mode": {
    "name": "ipython",
    "version": 3
   },
   "file_extension": ".py",
   "mimetype": "text/x-python",
   "name": "python",
   "nbconvert_exporter": "python",
   "pygments_lexer": "ipython3",
   "version": "3.9.12"
  }
 },
 "nbformat": 4,
 "nbformat_minor": 5
}
